{
 "cells": [
  {
   "cell_type": "markdown",
   "metadata": {},
   "source": [
    "## Environment Setup\n",
    "#### make venv for project\n",
    "1. create virtual environment for project\n",
    "- `python3 -m venv` my_venv\n",
    "2. activate your virtual environment\n",
    "- `source my_venv/bin/activate`\n",
    "- note: to deactivate virtual environment \n",
    "    - `deactivate`\n",
    "#### install extra libraries for project\n",
    "1. install python libraries via pip\n",
    "- `pip install`  my_cool_python_lib\n",
    "2. once done save environment dependencies \n",
    "- `pip freeze > requirements.txt`\n",
    "- note: to install dependencies given requirements.txt\n",
    "    - `pip install -r /{PATH_TO}/requirements.txt`\n",
    "#### add venv to vs code\n",
    "1. search for python interpreters \n",
    "- `ctrl+shift+p`\n",
    "- search python interpreters\n",
    "- select *Python: Select Interpreter* \n",
    "- select *Enter interpreter path..*\n",
    "    - enter absolute path to virtual environment python\n",
    "        - ex: */home/usr/my_venv/bin/python3*"
   ]
  },
  {
   "cell_type": "markdown",
   "metadata": {},
   "source": [
    "# change local links fpaths once removed from main notebook\n",
    "## Datasets\n",
    "\n",
    "#### ICESat-2\n",
    "1. Description\n",
    "- \n",
    "2. where to access\n",
    "- access description\n",
    "    - website 1\n",
    "3. Specific Processing Tools\n",
    "- Tool 1\n",
    "    - github link\n",
    "4. Potential applications\n",
    "- application 1\n",
    "#### GRACE & GRACE-FO\n",
    "1. Description\n",
    "- explain general\n",
    "    - The GRACE and GRACE-FO “mascons” (e.g. RL06M) add *why*(pg 29-30 L3 handbook)\n",
    "    - Read more [here](./resources/data_docs/GRACE-FO_L3_Handbook_JPL.pdf)\n",
    "\n",
    "- version: JPL RL06M Version 2.0\n",
    "    - Read more [here](./resources/data_docs/GRACE_GRACE-FO_ReleaseNotes_JPL_MASCON.txt)\n",
    "2. Data Access\n",
    "- access through PO.DAAC at JPL or ISDC at GFZ(pg 28 L3 GRACE handbook)\n",
    "    - [PO.DAAC data here](https://podaac.jpl.nasa.gov/dataset/TELLUS_GRAC-GRFO_MASCON_CRI_GRID_RL06_V2)\n",
    "    - note: ocean and land girds are published separately\n",
    "    - [ISDC data here](https://isdc.gfz.de/homepage/)\n",
    "3. Specific Processing Tools\n",
    "- Tool 1\n",
    "    - github link\n",
    "4. Potential Applications\n",
    "- application 1"
   ]
  },
  {
   "cell_type": "code",
   "execution_count": null,
   "metadata": {},
   "outputs": [],
   "source": []
  }
 ],
 "metadata": {
  "kernelspec": {
   "display_name": "ucsd",
   "language": "python",
   "name": "python3"
  },
  "language_info": {
   "name": "python",
   "version": "3.12.3"
  }
 },
 "nbformat": 4,
 "nbformat_minor": 2
}
