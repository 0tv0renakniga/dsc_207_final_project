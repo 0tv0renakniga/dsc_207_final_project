{
 "cells": [
  {
   "cell_type": "markdown",
   "metadata": {},
   "source": [
    "## Environment Setup\n",
    "#### make venv for project\n",
    "1. create virtual environment for project\n",
    "- `python3 -m venv` my_venv\n",
    "2. activate your virtual environment\n",
    "- `source my_venv/bin/activate`\n",
    "- note: to deactivate virtual environment \n",
    "    - `deactivate`\n",
    "#### install extra libraries for project\n",
    "1. install python libraries via pip\n",
    "- `pip install`  my_cool_python_lib\n",
    "2. once done save environment dependencies \n",
    "- `pip freeze > requirements.txt`\n",
    "- note: to install dependencies given requirements.txt\n",
    "    - `pip install -r /{PATH_TO}/requirements.txt`\n",
    "#### add venv to vs code\n",
    "1. search for python interpreters \n",
    "- `ctrl+shift+p`\n",
    "- search python interpreters\n",
    "- select *Python: Select Interpreter* \n",
    "- select *Enter interpreter path..*\n",
    "    - enter absolute path to virtual environment python\n",
    "        - ex: */home/usr/my_venv/bin/python3*"
   ]
  },
  {
   "cell_type": "markdown",
   "metadata": {},
   "source": [
    "# change local links fpaths once removed from main notebook\n",
    "## Datasets\n",
    "\n",
    "#### ICESat-2\n",
    "1. Description\n",
    "- \n",
    "2. where to access\n",
    "- access description\n",
    "    - website 1\n",
    "3. Specific Processing Tools\n",
    "- Tool 1\n",
    "    - github link\n",
    "4. Potential applications\n",
    "- application 1\n",
    "#### GRACE & GRACE-FO\n",
    "1. Description\n",
    "- explain general\n",
    "    - The GRACE and GRACE-FO “mascons” (e.g. RL06M) add *why*(pg 29-30 L3 handbook)\n",
    "    - Read more [here](./resources/data_docs/GRACE-FO_L3_Handbook_JPL.pdf)\n",
    "- version: JPL RL06M Version 2.0\n",
    "    - Read more [here](./resources/data_docs/GRACE_GRACE-FO_ReleaseNotes_JPL_MASCON.txt)\n",
    "- formats: *netcdf, ascii, geotiff* (land only).\n",
    "2. Data Access\n",
    "- access through PO.DAAC at JPL or ISDC at GFZ(pg 28 L3 GRACE handbook)\n",
    "    - [PO.DAAC data here](https://podaac.jpl.nasa.gov/dataset/TELLUS_GRAC-GRFO_MASCON_CRI_GRID_RL06_V2)\n",
    "    - note: ocean and land girds are published separately\n",
    "    - [ISDC data here](https://isdc.gfz.de/homepage/)\n",
    "3. Specific Processing Tools\n",
    "- Tool 1\n",
    "    - github link\n",
    "4. Potential Applications\n",
    "- Weather Forecasting, Earthquake Observation, Ice Mass Change, etc.\n",
    "5. Step Summary\n",
    "- preliminary exploration:explore data using GRACE(-FO) Data Analysis Tool to find areas of interest \n",
    "    - [GRACE(-FO) Data Analysis Tool here](https://grace.jpl.nasa.gov/data/data-analysis-tool/)\n",
    "- download data sets for areas of interest\n",
    "- pre-processing: multiply mascon by gain factor(also called scale factor) to enhance spatial resolution(L3 handbook pg 30)\n",
    "- visualize data(see example L3 handbook pg 31)"
   ]
  },
  {
   "cell_type": "markdown",
   "metadata": {},
   "source": [
    "## Question Motivation\n",
    "#### Motivation\n",
    "1. combine altimeter data (ICESat-2) with gravity measurements\n",
    "- *Combining observations of sea level from altimeters with GRACE observations of ocean mass change provides a new constraint on the rate of thermal expansion in the global ocean, and hence on ocean heat content change, which enable a more complete estimation of the global sea Level budget*(L3 handbook pg 24)\n",
    "2. why classify data?\n",
    "3. why look at ice thickness?\n",
    "#### Questions\n",
    "1. What percentage of (area of interest) is land, sea ice, land ice,vegetation, sea(insert other categories)? How does this ratio change over (time period of dataset)?\n",
    "- classification.. kmeans? look for something with classification of areas using ICESat-2/GRACE datasets?\n",
    "2. What is current thickness of ice in (area of interest)? Thickness is related to ice mass change(L3 handbook pg 24) How does change over (time period of dataset) and seasonally?\n",
    "- use regression to forecast mass/vol over (time period of dataset)\n",
    "3. How does seasonal meltwater dynamics affect the relationship btw mass change and elevation? How does meltwater dynamics over (time period of dataset) in (area of interest) how does this affect future sea level rise?\n",
    "- use elevation changes of ice from q1, mass/volume change over time from q2, and gravity changes to calc meltwater.\n",
    "- use temporal meltwater volume variations from land ice q3.1, vegetation growth(more plants suck more water)q1, and elevation changes of sea q1."
   ]
  }
 ],
 "metadata": {
  "kernelspec": {
   "display_name": "ucsd",
   "language": "python",
   "name": "python3"
  },
  "language_info": {
   "name": "python",
   "version": "3.12.3"
  }
 },
 "nbformat": 4,
 "nbformat_minor": 2
}
