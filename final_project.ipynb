{
 "cells": [
  {
   "cell_type": "markdown",
   "metadata": {},
   "source": [
    "## Environment Setup\n",
    "#### make venv for project\n",
    "1. create virtual environment for project\n",
    "- `python3 -m venv` my_venv\n",
    "2. activate your virtual environment\n",
    "- `source my_venv/bin/activate`\n",
    "- note: to deactivate virtual environment \n",
    "    - `deactivate`\n",
    "#### install extra libraries for project\n",
    "1. install python libraries via pip\n",
    "- `pip install`  my_cool_python_lib\n",
    "2. once done save environment dependencies \n",
    "- `pip freeze > requirements.txt`\n",
    "- note: to install dependencies given requirements.txt\n",
    "    - `pip install -r /{PATH_TO}/requirements.txt`\n",
    "#### add venv to vs code\n",
    "1. search for python interpreters \n",
    "- `ctrl+shift+p`\n",
    "- search python interpreters\n",
    "- select *Python: Select Interpreter* \n",
    "- select *Enter interpreter path..*\n",
    "    - enter absolute path to virtual environment python\n",
    "        - ex: */home/usr/my_venv/bin/python3*\n",
    "#### [markdown pro-tips](https://docs.github.com/en/get-started/writing-on-github/getting-started-with-writing-and-formatting-on-github/basic-writing-and-formatting-syntax)"
   ]
  },
  {
   "cell_type": "markdown",
   "metadata": {},
   "source": [
    "# change local links fpaths once removed from main notebook\n",
    "## Datasets\n",
    "\n",
    "#### ICESat-2\n",
    "1. Description\n",
    "- explain general\n",
    "- altimeter data, lots of diff data products.. see image below\n",
    "![alt text](./icesat2_data_products.png \"ICESat-2 Data Products\")\n",
    "- Read more [here](https://nsidc.org/data/icesat-2/products)\n",
    "- formats: h5py\n",
    "2. where to access\n",
    "- use icepyx to access\n",
    "    - Read more[here](https://icepyx.readthedocs.io/en/latest/example_notebooks/IS2_data_access.html)\n",
    "- use earthaccess \n",
    "    - Read more [here](https://earthaccess.readthedocs.io/en/latest/quick-start/)\n",
    "- hosted by nasa earthdata.nasta.gov\n",
    "    - see more public data [here](earthdata.nasa.gov)\n",
    "3. Specific Processing Tools\n",
    "- [icepyx](https://github.com/icesat2py/icepyx/blob/main/doc/source/example_notebooks/IS2_data_access.ipynb)\n",
    "- [earthaccess](https://github.com/nsidc/earthaccess)\n",
    "    - add instructions for [.netrc] creation.. need account on [urs.earthdata.gov](https://earthaccess.readthedocs.io/en/latest/quick-start/)\n",
    "- spacepy or h5py\n",
    "4. Potential applications\n",
    "- look at elevation changes of land ice, sea ice, vegetation, atmosphere etc. see data products\n",
    "#### GRACE & GRACE-FO\n",
    "1. Description\n",
    "- explain general\n",
    "    - The GRACE and GRACE-FO “mascons” (e.g. RL06M) add *why*(pg 29-30 L3 handbook)\n",
    "    - Read more [here](./resources/data_docs/GRACE-FO_L3_Handbook_JPL.pdf)\n",
    "- version: JPL RL06M Version 2.0\n",
    "    - Read more [here](./resources/data_docs/GRACE_GRACE-FO_ReleaseNotes_JPL_MASCON.txt)\n",
    "- formats: *netcdf, ascii, geotiff* (land only).\n",
    "- find other docs [here](https://podaac.jpl.nasa.gov/gravity/gracefo-documentation)\n",
    "2. Data Access\n",
    "- access through PO.DAAC at JPL or ISDC at GFZ(pg 28 L3 GRACE handbook)\n",
    "    - [PO.DAAC data here](https://podaac.jpl.nasa.gov/dataset/TELLUS_GRAC-GRFO_MASCON_CRI_GRID_RL06_V2)\n",
    "    - note: ocean and land girds are published separately\n",
    "    - [ISDC data here](https://isdc.gfz.de/homepage/)\n",
    "3. Specific Processing Tools\n",
    "- Tool 1 see L3 hand book for guidence\n",
    "    - github link\n",
    "- Tool 2 need something for handling data formats(*netcdf, ascii, geotiff*)\n",
    "4. Potential Applications\n",
    "- Weather Forecasting, Earthquake Observation, Ice Mass Change, etc.\n",
    "5. Step Summary\n",
    "- preliminary exploration:explore data using GRACE(-FO) Data Analysis Tool to find areas of interest \n",
    "    - [GRACE(-FO) Data Analysis Tool here](https://grace.jpl.nasa.gov/data/data-analysis-tool/)\n",
    "- download data sets for areas of interest\n",
    "- pre-processing: multiply mascon by gain factor(also called scale factor) to enhance spatial resolution(L3 handbook pg 30)\n",
    "- visualize data(see example L3 handbook pg 31)"
   ]
  },
  {
   "cell_type": "markdown",
   "metadata": {},
   "source": [
    "## Question Motivation\n",
    "#### Motivation\n",
    "1. combine altimeter data (ICESat-2) with gravity measurements\n",
    "- *Combining observations of sea level from altimeters with GRACE observations of ocean mass change provides a new constraint on the rate of thermal expansion in the global ocean, and hence on ocean heat content change, which enable a more complete estimation of the global sea Level budget*(L3 handbook pg 24)\n",
    "2. why classify data?\n",
    "3. why look at ice thickness?\n",
    "#### Questions\n",
    "1. What percentage of (area of interest) is land, sea ice, land ice,vegetation, sea(insert other categories)? How does this ratio change over (time period of dataset)?\n",
    "- classification.. kmeans? look for something with classification of areas using ICESat-2/GRACE datasets?\n",
    "2. What is current thickness of ice in (area of interest)? Thickness is related to ice mass change(L3 handbook pg 24) How does change over (time period of dataset) and seasonally?\n",
    "- use regression to forecast mass/vol over (time period of dataset)\n",
    "3. How does seasonal meltwater dynamics affect the relationship btw mass change and elevation? How does meltwater dynamics over (time period of dataset) in (area of interest) how does this affect future sea level rise?\n",
    "- use elevation changes of ice from q1, mass/volume change over time from q2, and gravity changes to calc meltwater.\n",
    "- use temporal meltwater volume variations from land ice q3.1, vegetation growth(more plants suck more water)q1, and elevation changes of sea q1."
   ]
  },
  {
   "cell_type": "markdown",
   "metadata": {},
   "source": [
    "## Dataset Motivation\n",
    "#### 1. Personal: Understanding processes within the realm of earth science and how remote observations can fuel insights of components that comprise these systems. Some examples are as follows:\n",
    "- What impact do solar cycles have on the conditions in space near earth. Specifically, how do solar storms deform earth's magnetic field. What does this magnetic field deformation mean for the reliability/ functionality of our satellites, communication systems, and power grids.\n",
    "- How do asymmetries existing at the core-mantel boundary influence geodynamo currents and mantel convection. If these CMB asymmetries do influence mantel convection(drives tectonic plate motion) can we use core-mantle asymmetries as a predictive method for earthquakes. \n",
    "- How can observations from space help us understand the non-linear behavior of the global climate?\n",
    "#### 2. Professional: Work as a software developer in the space research group at Los Alamos National Lab. I help manage creation of higher level data products for several satellite constellations, and would like to understand when data fusion from multiple sources is appropriate, how is it applied and how can it help us leverage existing equipment to the max? \n",
    "#### 3. Academic:\n",
    "- Multi-source remote sensing data fusion: status and trends: Zhang\n",
    "- A review of practical AI for remote sensing in earth sciences\n",
    "- The Ice, Cloud, and Land Elevation Satellite 2 Mission: A Global Geolocated Photon Product Derived From the Advanced Topographic Laser Altimeter System: Neumann\n",
    "- Community estimate of global glacier mass changes from 2000 to 2023: The GlaMBIE Team\n",
    "- A comparison of coincident GRACE and ICESat data over Antarctica: Gunter\n",
    "- Integrating Models and REmote Sensing Data for Distributed Glacier Mass balance Estimation: Podsiadlo\n",
    "- Measuring glacier mass changes from space - a review: Berthier\n",
    "- Comparing elevation and backscatter retrievals from CryoSat-2 and ICESat-2 over Arctic summer ice: Dawson\n",
    "- Review article Multisensor image fusion in remote sensing: concepts, methods, and applications: Pohl\n",
    "- add GRACE and ICESat-2 docs\n",
    "- maybe missing something from scopus??\n",
    "\n",
    "\n"
   ]
  },
  {
   "cell_type": "markdown",
   "metadata": {},
   "source": []
  },
  {
   "cell_type": "code",
   "execution_count": 89,
   "metadata": {},
   "outputs": [
    {
     "name": "stdout",
     "output_type": "stream",
     "text": [
      "class\n",
      "STAR      50000\n",
      "GALAXY    50000\n",
      "QSO       50000\n",
      "Name: count, dtype: int64\n"
     ]
    }
   ],
   "source": [
    "import pandas as pd\n",
    "import numpy as np\n",
    "# read in datasets\n",
    "df_star = pd.read_csv('/home/scotty/dsc_207_final_project/sdss_star_ds.csv',skiprows=1)\n",
    "df_galaxy_agn = pd.read_csv('/home/scotty/dsc_207_final_project/sdss_galaxy_agn_ds.csv',skiprows=1)\n",
    "df_galaxy_broadline = pd.read_csv('/home/scotty/dsc_207_final_project/sdss_galaxy_broadline_ds.csv',skiprows=1)\n",
    "df_galaxy_starburst = pd.read_csv('/home/scotty/dsc_207_final_project/sdss_galaxy_starburst_ds.csv',skiprows=1)\n",
    "df_galaxy_starforming = pd.read_csv('/home/scotty/dsc_207_final_project/sdss_galaxy_starforming_ds.csv',skiprows=1)\n",
    "df_galaxy_unclassified = pd.read_csv('/home/scotty/dsc_207_final_project/sdss_galaxy_unclassified_ds.csv',skiprows=1)\n",
    "df_quasar = pd.read_csv('/home/scotty/dsc_207_final_project/sdss_qso_ds.csv',skiprows=1)\n",
    "\n",
    "# combine into one\n",
    "df = pd.concat([df_star,df_galaxy_agn,df_galaxy_broadline,df_galaxy_starburst,df_galaxy_starforming,df_galaxy_unclassified,df_quasar])\n",
    "print(df['class'].value_counts())\n",
    "#print(df_star.head())\n",
    "#print(df_galaxy.head())\n",
    "#print(df_quasar.head())\n",
    "df.reset_index(inplace=True,drop=True)\n",
    "df.to_csv('sdss_mixed.csv',header=True,index=False)"
   ]
  },
  {
   "cell_type": "code",
   "execution_count": 55,
   "metadata": {},
   "outputs": [
    {
     "name": "stdout",
     "output_type": "stream",
     "text": [
      "                                                                                                                                                                                                #Table1\n",
      "objid               ra               dec               dered_u  dered_g  dered_r  dered_i  dered_z  run  rerun camcol field specobjid           class redshift      plate mjd   fiberid probPSF    mode\n",
      "1237651274035560615 128.882532702746 54.928917456568   19.43687 17.76148 17.13218 16.91798 16.80427 1350 301   6      179   3785283816004886528 STAR  -0.0001525885 3362  54939 30      1             1\n",
      "1237651274035560626 128.871463576431 54.9678830823743  19.22869 18.083   17.66953 17.49974 17.44089 1350 301   6      179   3785282991371165696 STAR  6.084921E-05  3362  54939 27      1             1\n",
      "1237652630712942658 8.6426989238844  -9.46154357342101 20.478   19.48022 19.40721 19.40105 19.31647 1666 301   5      249   3496060304062783488 STAR  -0.0005251435 3105  54825 513     1             1\n",
      "1237652630713073804 9.03536218359167 -9.37385956843071 19.66633 18.18865 17.61381 17.40076 17.23395 1666 301   5      251   3496069924789526528 STAR  5.85611E-05   3105  54825 548     1             1\n"
     ]
    }
   ],
   "source": [
    "# look at top 5 rows\n",
    "print(df.head())"
   ]
  },
  {
   "cell_type": "code",
   "execution_count": 54,
   "metadata": {},
   "outputs": [
    {
     "name": "stdout",
     "output_type": "stream",
     "text": [
      "                                                                                                                                                                                                #Table1\n",
      "objid               ra               dec               dered_u  dered_g  dered_r  dered_i  dered_z  run  rerun camcol field specobjid           class redshift      plate mjd   fiberid probPSF    mode\n",
      "1237651274035560615 128.882532702746 54.928917456568   19.43687 17.76148 17.13218 16.91798 16.80427 1350 301   6      179   3785283816004886528 STAR  -0.0001525885 3362  54939 30      1             1\n",
      "1237651274035560626 128.871463576431 54.9678830823743  19.22869 18.083   17.66953 17.49974 17.44089 1350 301   6      179   3785282991371165696 STAR  6.084921E-05  3362  54939 27      1             1\n",
      "1237652630712942658 8.6426989238844  -9.46154357342101 20.478   19.48022 19.40721 19.40105 19.31647 1666 301   5      249   3496060304062783488 STAR  -0.0005251435 3105  54825 513     1             1\n",
      "1237652630713073804 9.03536218359167 -9.37385956843071 19.66633 18.18865 17.61381 17.40076 17.23395 1666 301   5      251   3496069924789526528 STAR  5.85611E-05   3105  54825 548     1             1\n"
     ]
    }
   ],
   "source": [
    "print(df.head())\n",
    "# convert mjd to datetime\n",
    "def mjd_to_datetime(mjd_series):\n",
    "    # Convert MJD to datetime\n",
    "    new_date_col = {'date':[]}\n",
    "    for mjd_date in mjd_series:\n",
    "        new_date = pd.to_datetime(mjd_date, unit='D', origin='1858-11-17').date()\n",
    "        new_date_col['date'].append(new_date)\n",
    "    return(new_date_col['date'])\n",
    "\n"
   ]
  },
  {
   "cell_type": "code",
   "execution_count": 51,
   "metadata": {},
   "outputs": [
    {
     "name": "stdout",
     "output_type": "stream",
     "text": [
      "Index(['dered_u', 'dered_g', 'dered_r', 'dered_i', 'dered_z', 'mode', 'clean',\n",
      "       'type', 'probPSF', 'ra', 'dec', 'mjd', 'redshift', 'ObjID', 'class'],\n",
      "      dtype='object')\n"
     ]
    }
   ],
   "source": [
    "df = pd.read_csv('sdss_quasar.csv')\n",
    "print(df.columns)"
   ]
  }
 ],
 "metadata": {
  "kernelspec": {
   "display_name": "ucsd",
   "language": "python",
   "name": "python3"
  },
  "language_info": {
   "codemirror_mode": {
    "name": "ipython",
    "version": 3
   },
   "file_extension": ".py",
   "mimetype": "text/x-python",
   "name": "python",
   "nbconvert_exporter": "python",
   "pygments_lexer": "ipython3",
   "version": "3.12.3"
  }
 },
 "nbformat": 4,
 "nbformat_minor": 2
}
